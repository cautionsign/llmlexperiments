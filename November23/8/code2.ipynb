{
 "cells": [
  {
   "cell_type": "code",
   "execution_count": 1,
   "id": "4854d30e",
   "metadata": {},
   "outputs": [],
   "source": [
    "import ipywidgets as widgets\n",
    "from IPython.display import display\n",
    "import matplotlib.pyplot as plt\n"
   ]
  },
  {
   "cell_type": "code",
   "execution_count": 2,
   "id": "4f052b74",
   "metadata": {},
   "outputs": [],
   "source": [
    "\n",
    "def plot_adsr_envelope(attack_time, decay_time, sustain_level, release_time, total_time):\n",
    "    sample_rate = 44100\n",
    "    num_samples = int(total_time * sample_rate)\n",
    "    t = np.linspace(0, total_time, num_samples, endpoint=False)\n",
    "\n",
    "    # Generate the envelope stages\n",
    "    attack_samples = int(attack_time * sample_rate)\n",
    "    decay_samples = int(decay_time * sample_rate)\n",
    "    release_samples = int(release_time * sample_rate)\n",
    "\n",
    "    envelope = np.zeros(num_samples)\n",
    "    envelope[:attack_samples] = np.linspace(0, 1, attack_samples)\n",
    "    envelope[attack_samples:attack_samples + decay_samples] = np.linspace(1, sustain_level, decay_samples)\n",
    "    envelope[-release_samples:] = np.linspace(sustain_level, 0, release_samples)\n",
    "\n",
    "    # Plot the ADSR envelope\n",
    "    plt.figure()\n",
    "    plt.title(\"ADSR Envelope\")\n",
    "    plt.plot(t, envelope)\n",
    "    plt.xlabel(\"Time (s)\")\n",
    "    plt.ylabel(\"Amplitude\")\n",
    "    plt.show()\n"
   ]
  },
  {
   "cell_type": "code",
   "execution_count": 6,
   "id": "fd10e451",
   "metadata": {},
   "outputs": [],
   "source": [
    "\n",
    "# Create interactive sliders\n",
    "attack_slider = widgets.FloatSlider(value=0.1, min=0.0, max=1.0, step=0.01, description='Attack Time (s):')\n",
    "decay_slider = widgets.FloatSlider(value=0.2, min=0.0, max=1.0, step=0.01, description='Decay Time (s):')\n",
    "sustain_slider = widgets.FloatSlider(value=0.6, min=0.0, max=1.0, step=0.01, description='Sustain Level:')\n",
    "release_slider = widgets.FloatSlider(value=0.3, min=0.0, max=1.0, step=0.01, description='Release Time (s):')\n",
    "total_time_slider = widgets.FloatSlider(value=2.0, min=0.1, max=10.0, step=0.1, description='Total Time (s):')\n",
    "\n"
   ]
  },
  {
   "cell_type": "code",
   "execution_count": 9,
   "id": "f9e4e78a",
   "metadata": {},
   "outputs": [
    {
     "data": {
      "application/vnd.jupyter.widget-view+json": {
       "model_id": "9bd134349d58497986666cecae872689",
       "version_major": 2,
       "version_minor": 0
      },
      "text/plain": [
       "interactive(children=(FloatSlider(value=0.74, description='Attack Time (s):', max=1.0, step=0.01), FloatSlider…"
      ]
     },
     "metadata": {},
     "output_type": "display_data"
    }
   ],
   "source": [
    "# Create interactive widget\n",
    "interactive_plot = widgets.interactive(plot_adsr_envelope,\n",
    "                                       attack_time=attack_slider,\n",
    "                                       decay_time=decay_slider,\n",
    "                                       sustain_level=sustain_slider,\n",
    "                                       release_time=release_slider,\n",
    "                                       total_time=total_time_slider)\n",
    "\n",
    "display(interactive_plot)"
   ]
  },
  {
   "cell_type": "code",
   "execution_count": 8,
   "id": "5c13c083",
   "metadata": {},
   "outputs": [],
   "source": [
    "import numpy as np\n"
   ]
  },
  {
   "cell_type": "code",
   "execution_count": null,
   "id": "8fdfad79",
   "metadata": {},
   "outputs": [],
   "source": []
  }
 ],
 "metadata": {
  "kernelspec": {
   "display_name": "Python 3 (ipykernel)",
   "language": "python",
   "name": "python3"
  },
  "language_info": {
   "codemirror_mode": {
    "name": "ipython",
    "version": 3
   },
   "file_extension": ".py",
   "mimetype": "text/x-python",
   "name": "python",
   "nbconvert_exporter": "python",
   "pygments_lexer": "ipython3",
   "version": "3.7.9"
  }
 },
 "nbformat": 4,
 "nbformat_minor": 5
}
